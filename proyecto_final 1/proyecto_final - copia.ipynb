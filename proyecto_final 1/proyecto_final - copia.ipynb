{
 "cells": [
  {
   "cell_type": "markdown",
   "metadata": {},
   "source": [
    "# Assignment Final\n",
    "Los datos que se incluyen en el fichero `datos_ventas_centros_comerciales.csv` representan casi 100.000 compra-ventas realizadas en un grupo de Centros Comerciales durantes los años 2021 y 2022. \n",
    "\n",
    "Como analista del holding propietario de los centros comerciales realiza un analisis respondiendo a las siguiente preguntas."
   ]
  },
  {
   "cell_type": "markdown",
   "metadata": {},
   "source": [
    "# 1. ¿Cuál es el total de ingresos generados por todas las ventas registradas?\n",
    "Guarda el resultado de una variable llamada `total_ingresos`\n",
    "\n"
   ]
  },
  {
   "cell_type": "code",
   "execution_count": 2,
   "metadata": {},
   "outputs": [],
   "source": [
    "import pandas as pd\n",
    "\n",
    "# El precio en el CSV es por unidad"
   ]
  },
  {
   "cell_type": "code",
   "execution_count": 3,
   "metadata": {},
   "outputs": [
    {
     "data": {
      "text/html": [
       "<div>\n",
       "<style scoped>\n",
       "    .dataframe tbody tr th:only-of-type {\n",
       "        vertical-align: middle;\n",
       "    }\n",
       "\n",
       "    .dataframe tbody tr th {\n",
       "        vertical-align: top;\n",
       "    }\n",
       "\n",
       "    .dataframe thead th {\n",
       "        text-align: right;\n",
       "    }\n",
       "</style>\n",
       "<table border=\"1\" class=\"dataframe\">\n",
       "  <thead>\n",
       "    <tr style=\"text-align: right;\">\n",
       "      <th></th>\n",
       "      <th>invoice_no</th>\n",
       "      <th>customer_id</th>\n",
       "      <th>category</th>\n",
       "      <th>quantity</th>\n",
       "      <th>price</th>\n",
       "      <th>invoice_date</th>\n",
       "      <th>shopping_mall</th>\n",
       "    </tr>\n",
       "  </thead>\n",
       "  <tbody>\n",
       "    <tr>\n",
       "      <th>0</th>\n",
       "      <td>I138884</td>\n",
       "      <td>C241288</td>\n",
       "      <td>Clothing</td>\n",
       "      <td>5</td>\n",
       "      <td>1500.40</td>\n",
       "      <td>05-08-2022</td>\n",
       "      <td>Kanyon</td>\n",
       "    </tr>\n",
       "    <tr>\n",
       "      <th>1</th>\n",
       "      <td>I317333</td>\n",
       "      <td>C111565</td>\n",
       "      <td>Shoes</td>\n",
       "      <td>3</td>\n",
       "      <td>1800.51</td>\n",
       "      <td>12-12-2021</td>\n",
       "      <td>Forum Istanbul</td>\n",
       "    </tr>\n",
       "    <tr>\n",
       "      <th>2</th>\n",
       "      <td>I127801</td>\n",
       "      <td>C266599</td>\n",
       "      <td>Clothing</td>\n",
       "      <td>1</td>\n",
       "      <td>300.08</td>\n",
       "      <td>09-11-2021</td>\n",
       "      <td>Metrocity</td>\n",
       "    </tr>\n",
       "    <tr>\n",
       "      <th>3</th>\n",
       "      <td>I173702</td>\n",
       "      <td>C988172</td>\n",
       "      <td>Shoes</td>\n",
       "      <td>5</td>\n",
       "      <td>3000.85</td>\n",
       "      <td>16-05-2021</td>\n",
       "      <td>Metropol AVM</td>\n",
       "    </tr>\n",
       "    <tr>\n",
       "      <th>4</th>\n",
       "      <td>I337046</td>\n",
       "      <td>C189076</td>\n",
       "      <td>Books</td>\n",
       "      <td>4</td>\n",
       "      <td>60.60</td>\n",
       "      <td>24-10-2021</td>\n",
       "      <td>Kanyon</td>\n",
       "    </tr>\n",
       "    <tr>\n",
       "      <th>...</th>\n",
       "      <td>...</td>\n",
       "      <td>...</td>\n",
       "      <td>...</td>\n",
       "      <td>...</td>\n",
       "      <td>...</td>\n",
       "      <td>...</td>\n",
       "      <td>...</td>\n",
       "    </tr>\n",
       "    <tr>\n",
       "      <th>99452</th>\n",
       "      <td>I219422</td>\n",
       "      <td>C441542</td>\n",
       "      <td>Souvenir</td>\n",
       "      <td>5</td>\n",
       "      <td>58.65</td>\n",
       "      <td>21-09-2022</td>\n",
       "      <td>Kanyon</td>\n",
       "    </tr>\n",
       "    <tr>\n",
       "      <th>99453</th>\n",
       "      <td>I325143</td>\n",
       "      <td>C569580</td>\n",
       "      <td>Food &amp; Beverage</td>\n",
       "      <td>2</td>\n",
       "      <td>10.46</td>\n",
       "      <td>22-09-2021</td>\n",
       "      <td>Forum Istanbul</td>\n",
       "    </tr>\n",
       "    <tr>\n",
       "      <th>99454</th>\n",
       "      <td>I824010</td>\n",
       "      <td>C103292</td>\n",
       "      <td>Food &amp; Beverage</td>\n",
       "      <td>2</td>\n",
       "      <td>10.46</td>\n",
       "      <td>28-03-2021</td>\n",
       "      <td>Metrocity</td>\n",
       "    </tr>\n",
       "    <tr>\n",
       "      <th>99455</th>\n",
       "      <td>I702964</td>\n",
       "      <td>C800631</td>\n",
       "      <td>Technology</td>\n",
       "      <td>4</td>\n",
       "      <td>4200.00</td>\n",
       "      <td>16-03-2021</td>\n",
       "      <td>Istinye Park</td>\n",
       "    </tr>\n",
       "    <tr>\n",
       "      <th>99456</th>\n",
       "      <td>I232867</td>\n",
       "      <td>C273973</td>\n",
       "      <td>Souvenir</td>\n",
       "      <td>3</td>\n",
       "      <td>35.19</td>\n",
       "      <td>15-10-2022</td>\n",
       "      <td>Mall of Istanbul</td>\n",
       "    </tr>\n",
       "  </tbody>\n",
       "</table>\n",
       "<p>99457 rows × 7 columns</p>\n",
       "</div>"
      ],
      "text/plain": [
       "      invoice_no customer_id         category  quantity    price invoice_date  \\\n",
       "0        I138884     C241288         Clothing         5  1500.40   05-08-2022   \n",
       "1        I317333     C111565            Shoes         3  1800.51   12-12-2021   \n",
       "2        I127801     C266599         Clothing         1   300.08   09-11-2021   \n",
       "3        I173702     C988172            Shoes         5  3000.85   16-05-2021   \n",
       "4        I337046     C189076            Books         4    60.60   24-10-2021   \n",
       "...          ...         ...              ...       ...      ...          ...   \n",
       "99452    I219422     C441542         Souvenir         5    58.65   21-09-2022   \n",
       "99453    I325143     C569580  Food & Beverage         2    10.46   22-09-2021   \n",
       "99454    I824010     C103292  Food & Beverage         2    10.46   28-03-2021   \n",
       "99455    I702964     C800631       Technology         4  4200.00   16-03-2021   \n",
       "99456    I232867     C273973         Souvenir         3    35.19   15-10-2022   \n",
       "\n",
       "          shopping_mall  \n",
       "0                Kanyon  \n",
       "1        Forum Istanbul  \n",
       "2             Metrocity  \n",
       "3          Metropol AVM  \n",
       "4                Kanyon  \n",
       "...                 ...  \n",
       "99452            Kanyon  \n",
       "99453    Forum Istanbul  \n",
       "99454         Metrocity  \n",
       "99455      Istinye Park  \n",
       "99456  Mall of Istanbul  \n",
       "\n",
       "[99457 rows x 7 columns]"
      ]
     },
     "execution_count": 3,
     "metadata": {},
     "output_type": "execute_result"
    }
   ],
   "source": [
    "centros_comerciales = pd.read_csv (r\"C:\\Users\\juliana\\Desktop\\master\\proyecto final\\datos_ventas_centros_comerciales.csv\")\n",
    "centros_comerciales"
   ]
  },
  {
   "cell_type": "code",
   "execution_count": 4,
   "metadata": {},
   "outputs": [
    {
     "data": {
      "text/plain": [
       "68551365.91"
      ]
     },
     "execution_count": 4,
     "metadata": {},
     "output_type": "execute_result"
    }
   ],
   "source": [
    "total_ingresos = centros_comerciales[\"price\"].sum()\n",
    "total_ingresos"
   ]
  },
  {
   "cell_type": "markdown",
   "metadata": {},
   "source": [
    "# 2. ¿Cuál es el centro comercial que ha generado más ventas?\n",
    "Guarda el resultado de una variable llamada `centro_comercial_mas_ventas`\n"
   ]
  },
  {
   "cell_type": "code",
   "execution_count": 27,
   "metadata": {},
   "outputs": [
    {
     "name": "stdout",
     "output_type": "stream",
     "text": [
      "El centro comercial que ha generado más ventas es: Mall of Istanbul\n"
     ]
    }
   ],
   "source": [
    "\n",
    "\n",
    "# Paso 2: Agrupar las ventas por centro comercial y sumar los ingresos\n",
    "centro_comercial_mas_ventas = df.groupby('shopping_mall')['price'].sum()\n",
    "\n",
    "# Paso 3: Encontrar el centro comercial con el mayor total de ventas\n",
    "centro_comercial_mas_ventas = centro_comercial_mas_ventas.idxmax()\n",
    "\n",
    "# Paso 4: Imprimir el centro comercial con más ventas\n",
    "print(f\"El centro comercial que ha generado más ventas es: {centro_comercial_mas_ventas}\")\n"
   ]
  },
  {
   "cell_type": "markdown",
   "metadata": {},
   "source": [
    "# 3. ¿Cuál es la categoría de producto que ha generado mas ventas? \n",
    "Guarda el resultado de una variable llamada `categoria_mas_vendida`\n"
   ]
  },
  {
   "cell_type": "code",
   "execution_count": 28,
   "metadata": {},
   "outputs": [
    {
     "name": "stdout",
     "output_type": "stream",
     "text": [
      "La categoría de producto que ha generado más ventas es: Clothing\n"
     ]
    }
   ],
   "source": [
    "\n",
    "\n",
    "# Paso 2: Agrupar las ventas por categoría y sumar los ingresos\n",
    "categoria_mas_vendida = df.groupby('category')['price'].sum()\n",
    "\n",
    "# Paso 3: Encontrar la categoría con el mayor total de ventas\n",
    "categoria_mas_vendida = categoria_mas_vendida.idxmax()\n",
    "\n",
    "# Paso 4: Imprimir la categoría con más ventas\n",
    "print(f\"La categoría de producto que ha generado más ventas es: {categoria_mas_vendida}\")"
   ]
  },
  {
   "cell_type": "markdown",
   "metadata": {},
   "source": [
    "# 4. ¿Cuál es el producto más caro vendido?\n",
    "Guarda el resultado de una variable llamada `categoria_producto_mas_caro`\n",
    "\n"
   ]
  },
  {
   "cell_type": "code",
   "execution_count": 10,
   "metadata": {},
   "outputs": [
    {
     "name": "stdout",
     "output_type": "stream",
     "text": [
      "Technology\n",
      "5250.0\n"
     ]
    }
   ],
   "source": [
    "categoria_producto_mas_caro = centros_comerciales.loc[centros_comerciales['price'].idxmax()]\n",
    "categoria_producto_mas_caro\n",
    "\n",
    "# Mostrar solo la categoría y el precio\n",
    "categoria = categoria_producto_mas_caro['category']\n",
    "precio = categoria_producto_mas_caro['price']\n",
    "print (categoria)\n",
    "print (precio)"
   ]
  },
  {
   "cell_type": "markdown",
   "metadata": {},
   "source": [
    "# 5. ¿Cuál es la factura más antigua registrada en el dataset?\n",
    "Guarda el resultado de una variable llamada `factura_mas_antigua`\n"
   ]
  },
  {
   "cell_type": "code",
   "execution_count": null,
   "metadata": {},
   "outputs": [
    {
     "name": "stdout",
     "output_type": "stream",
     "text": [
      "El número de la factura más antigua es: I301161\n"
     ]
    }
   ],
   "source": [
    "\n",
    "\n",
    "# Paso 3: Encontrar la fila con la fecha más antigua\n",
    "factura_mas_antigua = df.loc[df['invoice_date'] == df['invoice_date'].min()]\n",
    "\n",
    "# ==  compara dos cosas para ver si son iguales o no.\n",
    "\n",
    "# Obtener el número de factura\n",
    "numero_factura_mas_antigua = factura_mas_antigua['invoice_no'].values[0]\n",
    "\n",
    "# Imprimir el número de factura más antigua\n",
    "print(f\"El número de la factura más antigua es: {numero_factura_mas_antigua}\")\n"
   ]
  },
  {
   "cell_type": "markdown",
   "metadata": {},
   "source": [
    "# 6. ¿Cuál es la cantidad promedio de productos vendidos por transacción?\n",
    "Guarda el resultado de una variable llamada `cantidad_promedio_por_transaccion`\n",
    "\n"
   ]
  },
  {
   "cell_type": "code",
   "execution_count": 14,
   "metadata": {},
   "outputs": [
    {
     "data": {
      "text/plain": [
       "3.003428617392441"
      ]
     },
     "execution_count": 14,
     "metadata": {},
     "output_type": "execute_result"
    }
   ],
   "source": [
    "cantidad_promedio_por_transaccion = centros_comerciales[\"quantity\"].mean()\n",
    "cantidad_promedio_por_transaccion"
   ]
  },
  {
   "cell_type": "markdown",
   "metadata": {},
   "source": [
    "# 7. ¿Cuál es el día con más ventas registradas?\n",
    "Guarda el resultado de una variable llamada `dia_con_mas_ventas`\n"
   ]
  },
  {
   "cell_type": "code",
   "execution_count": null,
   "metadata": {},
   "outputs": [
    {
     "name": "stdout",
     "output_type": "stream",
     "text": [
      "09-06-2022\n"
     ]
    }
   ],
   "source": [
    "df = pd.read_csv(\"datos_ventas_centros_comerciales.csv\")\n",
    "\n",
    "df['invoice_date'] = pd.to_datetime(df['invoice_date'], dayfirst=True)\n",
    "#\"Convierte la columna de fechas a formato de fecha real , para que Python pueda ordenarlas, agruparlas y analizarlas correctamente\".\n",
    "\n",
    "dia_con_mas_ventas = df.groupby('invoice_date')['quantity'].sum().idxmax()\n",
    "\n",
    "# df.groupby('invoice_date') Agrupa los datos por cada día .\n",
    "#idxmax Busca la fecha donde se vendió la mayor cantidad de productos .\n",
    "\n",
    "print(dia_con_mas_ventas.strftime('%d-%m-%Y')) # este metodo se usa como stream porque la fecha no esta transofrmado a formato fecha "
   ]
  },
  {
   "cell_type": "markdown",
   "metadata": {},
   "source": [
    "# 8. ¿Cuál es el cliente que más ha gastado en total?\n",
    "Guarda el resultado de una variable llamada `cliente_que_mas_gasto`\n"
   ]
  },
  {
   "cell_type": "code",
   "execution_count": 29,
   "metadata": {},
   "outputs": [
    {
     "name": "stdout",
     "output_type": "stream",
     "text": [
      "El ID del cliente con la venta más alta es: C140969\n"
     ]
    }
   ],
   "source": [
    "\n",
    "# Paso 2: Ordenar los datos por la columna 'price' de mayor a menor\n",
    "df_sorted = df.sort_values(by='price', ascending=False)\n",
    "\n",
    "# Paso 3: Obtener el ID del cliente de la fila con el precio más alto\n",
    "cliente_con_mas_ventas_id = df_sorted.iloc[0]['customer_id']\n",
    "\n",
    "# Paso 4: Imprimir el ID del cliente con la venta más alta\n",
    "print(f\"El ID del cliente con la venta más alta es: {cliente_con_mas_ventas_id}\")"
   ]
  },
  {
   "cell_type": "markdown",
   "metadata": {},
   "source": [
    "# 9. ¿Cuál es la factura con el precio total más alto?\n",
    "Guarda el resultado de una variable llamada `factura_max_valor`\n"
   ]
  },
  {
   "cell_type": "code",
   "execution_count": null,
   "metadata": {},
   "outputs": [
    {
     "name": "stdout",
     "output_type": "stream",
     "text": [
      "La factura con mayor valor es I100072 con un total de $26,250.00\n"
     ]
    }
   ],
   "source": [
    "\n",
    "\n",
    "# Agrupar por número de factura y sumar los totales (por si una factura tiene varias filas)\n",
    "total_por_factura = df.groupby('invoice_no')['total'].sum()\n",
    "\n",
    "# Obtener la factura con el valor total más alto\n",
    "factura_max_valor = total_por_factura.idxmax()\n",
    "monto_factura_max = total_por_factura.max()\n",
    "\n",
    "# Mostrar el resultado\n",
    "print(f\"La factura con mayor valor es {factura_max_valor} con un total de ${monto_factura_max:,.2f}\")\n",
    "\n",
    "#Este pedacito le dice a Python cómo mostrar ese número:\n",
    "\n",
    "# :→ Le dice: “Ojo, que voy a darle formato especial”.\n",
    "\n",
    "# ,→ Le dice: “Poneme comas para separar los miles ”.\n",
    "\n",
    "# .2f→ Le dice: “Mostrame solo dos decimales , como se ve en los precios”.\n"
   ]
  },
  {
   "cell_type": "markdown",
   "metadata": {},
   "source": [
    "# 10. ¿Cuál es la distribución porcentual de ventas por categoría de producto?\n",
    "Guarda el resultado de una variable llamada `distribucion_porcentual_ventas_por_categoria`. El tipo de `distribucion_porcentual_ventas_por_categoria` debe ser `pandas.core.series.Series` donde las etiquetas deben ser las categorias y los valores deben ser la distribucion porcentual de las ventas por categoría\n",
    "\n",
    "\n"
   ]
  },
  {
   "cell_type": "code",
   "execution_count": null,
   "metadata": {},
   "outputs": [],
   "source": []
  },
  {
   "cell_type": "markdown",
   "metadata": {},
   "source": [
    "# 11. ¿Cuál es el día de la semana con más ventas registradas en cada centro comercial?\n",
    "Guarda el resultado de una variable llamada `dia_semana_mas_ventas_por_centro`. El tipo de `dia_semana_mas_ventas_por_centro` debe ser `pandas.core.series.Series` donde las etiquetas deben ser el nombre de los centros comerciales y los valores deben ser el nombre del dia de la semana con mas ventas."
   ]
  },
  {
   "cell_type": "code",
   "execution_count": null,
   "metadata": {},
   "outputs": [
    {
     "name": "stdout",
     "output_type": "stream",
     "text": [
      "Día con más ventas por centro comercial:\n",
      "\n",
      "shopping_mall\n",
      "Cevahir AVM             Friday\n",
      "Emaar Square Mall       Monday\n",
      "Forum Istanbul        Saturday\n",
      "Istinye Park         Wednesday\n",
      "Kanyon                  Monday\n",
      "Mall of Istanbul        Monday\n",
      "Metrocity               Monday\n",
      "Metropol AVM            Monday\n",
      "Viaport Outlet          Friday\n",
      "Zorlu Center           Tuesday\n",
      "Name: total, dtype: object\n"
     ]
    }
   ],
   "source": [
    "\n",
    "\n",
    "\n",
    "# Convertir la columna de fecha a formato datetime\n",
    "df['invoice_date'] = pd.to_datetime(df['invoice_date'], dayfirst=True)\n",
    "\n",
    "#  Crea una nueva columna 'dia_semana' que contiene el nombre del día (por ejemplo: \"Monday\", \"Tuesday\", etc.), extraído desde la columna de fecha.\n",
    "df['dia_semana'] = df['invoice_date'].dt.day_name()\n",
    "\n",
    "# Calcular el total de cada venta\n",
    "df['total'] = df['quantity'] * df['price']\n",
    "\n",
    "# Sumar ventas por centro comercial y día de la semana\n",
    "ventas_por_dia_y_centro = df.groupby(['shopping_mall', 'dia_semana'])['total'].sum()\n",
    "\n",
    "# Encontrar el día de la semana con más ventas por centro comercial\n",
    "#dia_semana_mas_ventas_por_centro = ventas_por_dia_y_centro.groupby(level=0).idxmax().apply(lambda x: x[1])\n",
    "#lambda x: x[1]\n",
    "#Porque queremos quedarnos solo con el nombre del día de la semana ('Tuesday', 'Sunday', etc.), y no con toda la tupla.\n",
    "# Mostrar el resultado\n",
    "print(\"Día con más ventas por centro comercial:\\n\")\n",
    "print(dia_semana_mas_ventas_por_centro)\n"
   ]
  },
  {
   "cell_type": "code",
   "execution_count": null,
   "metadata": {},
   "outputs": [],
   "source": []
  }
 ],
 "metadata": {
  "kernelspec": {
   "display_name": "base",
   "language": "python",
   "name": "python3"
  },
  "language_info": {
   "codemirror_mode": {
    "name": "ipython",
    "version": 3
   },
   "file_extension": ".py",
   "mimetype": "text/x-python",
   "name": "python",
   "nbconvert_exporter": "python",
   "pygments_lexer": "ipython3",
   "version": "3.12.4"
  }
 },
 "nbformat": 4,
 "nbformat_minor": 2
}
